{
 "cells": [
  {
   "cell_type": "markdown",
   "id": "0ada80e4",
   "metadata": {},
   "source": [
    "source : https://towardsdatascience.com/fugue-and-duckdb-fast-sql-code-in-python-e2e2dfc0f8eb"
   ]
  },
  {
   "cell_type": "code",
   "execution_count": 21,
   "id": "e469cc1f",
   "metadata": {},
   "outputs": [],
   "source": [
    "#pip install -U fugue[duckdb,sql] \n",
    "#!pip install pandas-ta"
   ]
  },
  {
   "cell_type": "code",
   "execution_count": null,
   "id": "0b839fcb",
   "metadata": {},
   "outputs": [],
   "source": []
  },
  {
   "cell_type": "code",
   "execution_count": 25,
   "id": "f09ce08a",
   "metadata": {},
   "outputs": [
    {
     "data": {
      "application/javascript": [
       "\n",
       "require([\"codemirror/lib/codemirror\"]);\n",
       "function set(str) {\n",
       "    var obj = {}, words = str.split(\" \");\n",
       "    for (var i = 0; i < words.length; ++i) obj[words[i]] = true;\n",
       "    return obj;\n",
       "  }\n",
       "var fugue_keywords = \"fill hash rand even presort persist broadcast params process output outtransform rowcount concurrency prepartition zip print title save append parquet csv json single checkpoint weak strong deterministic yield connect sample seed take sub callback dataframe file\";\n",
       "CodeMirror.defineMIME(\"text/x-fsql\", {\n",
       "    name: \"sql\",\n",
       "    keywords: set(fugue_keywords + \" add after all alter analyze and anti archive array as asc at between bucket buckets by cache cascade case cast change clear cluster clustered codegen collection column columns comment commit compact compactions compute concatenate cost create cross cube current current_date current_timestamp database databases data dbproperties defined delete delimited deny desc describe dfs directories distinct distribute drop else end escaped except exchange exists explain export extended external false fields fileformat first following for format formatted from full function functions global grant group grouping having if ignore import in index indexes inner inpath inputformat insert intersect interval into is items join keys last lateral lazy left like limit lines list load local location lock locks logical macro map minus msck natural no not null nulls of on optimize option options or order out outer outputformat over overwrite partition partitioned partitions percent preceding principals purge range recordreader recordwriter recover reduce refresh regexp rename repair replace reset restrict revoke right rlike role roles rollback rollup row rows schema schemas select semi separated serde serdeproperties set sets show skewed sort sorted start statistics stored stratify struct table tables tablesample tblproperties temp temporary terminated then to touch transaction transactions transform true truncate unarchive unbounded uncache union unlock unset use using values view when where window with\"),\n",
       "    builtin: set(\"date datetime tinyint smallint int bigint boolean float double string binary timestamp decimal array map struct uniontype delimited serde sequencefile textfile rcfile inputformat outputformat\"),\n",
       "    atoms: set(\"false true null\"),\n",
       "    operatorChars: /^[*\\/+\\-%<>!=~&|^]/,\n",
       "    dateSQL: set(\"time\"),\n",
       "    support: set(\"ODBCdotTable doubleQuote zerolessFloat\")\n",
       "  });\n",
       "\n",
       "CodeMirror.modeInfo.push( {\n",
       "            name: \"Fugue SQL\",\n",
       "            mime: \"text/x-fsql\",\n",
       "            mode: \"sql\"\n",
       "          } );\n",
       "\n",
       "require(['notebook/js/codecell'], function(codecell) {\n",
       "    codecell.CodeCell.options_default.highlight_modes['magic_text/x-fsql'] = {'reg':[/%%fsql/]} ;\n",
       "    Jupyter.notebook.events.on('kernel_ready.Kernel', function(){\n",
       "    Jupyter.notebook.get_cells().map(function(cell){\n",
       "        if (cell.cell_type == 'code'){ cell.auto_highlight(); } }) ;\n",
       "    });\n",
       "  });\n"
      ],
      "text/plain": [
       "<IPython.core.display.Javascript object>"
      ]
     },
     "metadata": {},
     "output_type": "display_data"
    }
   ],
   "source": [
    "from fugue_notebook import setup\n",
    "import fugue_duckdb\n",
    "import fugue_duckdb\n",
    "setup()"
   ]
  },
  {
   "cell_type": "code",
   "execution_count": null,
   "id": "2e457ed4",
   "metadata": {},
   "outputs": [],
   "source": []
  },
  {
   "cell_type": "code",
   "execution_count": 2,
   "id": "9669e269",
   "metadata": {},
   "outputs": [],
   "source": [
    "import os\n",
    "import pandas as pd\n",
    "\n",
    "from fugue_sql import fsql"
   ]
  },
  {
   "cell_type": "code",
   "execution_count": 6,
   "id": "6a3fea33",
   "metadata": {},
   "outputs": [
    {
     "data": {
      "text/html": [
       "<div>\n",
       "<style scoped>\n",
       "    .dataframe tbody tr th:only-of-type {\n",
       "        vertical-align: middle;\n",
       "    }\n",
       "\n",
       "    .dataframe tbody tr th {\n",
       "        vertical-align: top;\n",
       "    }\n",
       "\n",
       "    .dataframe thead th {\n",
       "        text-align: right;\n",
       "    }\n",
       "</style>\n",
       "<table border=\"1\" class=\"dataframe\">\n",
       "  <thead>\n",
       "    <tr style=\"text-align: right;\">\n",
       "      <th></th>\n",
       "      <th>Open</th>\n",
       "      <th>High</th>\n",
       "      <th>Low</th>\n",
       "      <th>Close</th>\n",
       "      <th>Volume</th>\n",
       "      <th>Close_time</th>\n",
       "      <th>Quote_asset_volume</th>\n",
       "      <th>Number_of_trades</th>\n",
       "      <th>Taker_buy_base_asset_volume</th>\n",
       "      <th>Taker_buy_quote_asset_volume</th>\n",
       "      <th>symbol</th>\n",
       "      <th>time</th>\n",
       "    </tr>\n",
       "  </thead>\n",
       "  <tbody>\n",
       "    <tr>\n",
       "      <th>0</th>\n",
       "      <td>0.000436</td>\n",
       "      <td>0.000436</td>\n",
       "      <td>0.000436</td>\n",
       "      <td>0.000436</td>\n",
       "      <td>2018.00</td>\n",
       "      <td>1509494459999</td>\n",
       "      <td>0.880400</td>\n",
       "      <td>4</td>\n",
       "      <td>0.00</td>\n",
       "      <td>0.000000</td>\n",
       "      <td>SNGLSETH</td>\n",
       "      <td>2017-11-01 00:00:00</td>\n",
       "    </tr>\n",
       "    <tr>\n",
       "      <th>1</th>\n",
       "      <td>0.000436</td>\n",
       "      <td>0.000436</td>\n",
       "      <td>0.000421</td>\n",
       "      <td>0.000425</td>\n",
       "      <td>2497.00</td>\n",
       "      <td>1509494519999</td>\n",
       "      <td>1.074549</td>\n",
       "      <td>8</td>\n",
       "      <td>893.00</td>\n",
       "      <td>0.379605</td>\n",
       "      <td>SNGLSETH</td>\n",
       "      <td>2017-11-01 00:01:00</td>\n",
       "    </tr>\n",
       "    <tr>\n",
       "      <th>2</th>\n",
       "      <td>0.000425</td>\n",
       "      <td>0.000428</td>\n",
       "      <td>0.000425</td>\n",
       "      <td>0.000428</td>\n",
       "      <td>2671.00</td>\n",
       "      <td>1509494579999</td>\n",
       "      <td>1.139313</td>\n",
       "      <td>3</td>\n",
       "      <td>2671.00</td>\n",
       "      <td>1.139313</td>\n",
       "      <td>SNGLSETH</td>\n",
       "      <td>2017-11-01 00:02:00</td>\n",
       "    </tr>\n",
       "    <tr>\n",
       "      <th>3</th>\n",
       "      <td>0.000428</td>\n",
       "      <td>0.000428</td>\n",
       "      <td>0.000428</td>\n",
       "      <td>0.000428</td>\n",
       "      <td>1773.00</td>\n",
       "      <td>1509494639999</td>\n",
       "      <td>0.758578</td>\n",
       "      <td>4</td>\n",
       "      <td>1773.00</td>\n",
       "      <td>0.758578</td>\n",
       "      <td>SNGLSETH</td>\n",
       "      <td>2017-11-01 00:03:00</td>\n",
       "    </tr>\n",
       "    <tr>\n",
       "      <th>4</th>\n",
       "      <td>0.000428</td>\n",
       "      <td>0.000428</td>\n",
       "      <td>0.000428</td>\n",
       "      <td>0.000428</td>\n",
       "      <td>887.00</td>\n",
       "      <td>1509494699999</td>\n",
       "      <td>0.379715</td>\n",
       "      <td>4</td>\n",
       "      <td>887.00</td>\n",
       "      <td>0.379715</td>\n",
       "      <td>SNGLSETH</td>\n",
       "      <td>2017-11-01 00:04:00</td>\n",
       "    </tr>\n",
       "    <tr>\n",
       "      <th>...</th>\n",
       "      <td>...</td>\n",
       "      <td>...</td>\n",
       "      <td>...</td>\n",
       "      <td>...</td>\n",
       "      <td>...</td>\n",
       "      <td>...</td>\n",
       "      <td>...</td>\n",
       "      <td>...</td>\n",
       "      <td>...</td>\n",
       "      <td>...</td>\n",
       "      <td>...</td>\n",
       "      <td>...</td>\n",
       "    </tr>\n",
       "    <tr>\n",
       "      <th>46674263</th>\n",
       "      <td>7.689900</td>\n",
       "      <td>7.689900</td>\n",
       "      <td>7.629700</td>\n",
       "      <td>7.647400</td>\n",
       "      <td>3031.78</td>\n",
       "      <td>1514678219999</td>\n",
       "      <td>23197.569353</td>\n",
       "      <td>42</td>\n",
       "      <td>8.23</td>\n",
       "      <td>63.152327</td>\n",
       "      <td>BNBUSDT</td>\n",
       "      <td>2017-12-30 23:56:00</td>\n",
       "    </tr>\n",
       "    <tr>\n",
       "      <th>46674264</th>\n",
       "      <td>7.647000</td>\n",
       "      <td>7.647000</td>\n",
       "      <td>7.646700</td>\n",
       "      <td>7.646700</td>\n",
       "      <td>5.99</td>\n",
       "      <td>1514678279999</td>\n",
       "      <td>45.804333</td>\n",
       "      <td>3</td>\n",
       "      <td>5.99</td>\n",
       "      <td>45.804333</td>\n",
       "      <td>BNBUSDT</td>\n",
       "      <td>2017-12-30 23:57:00</td>\n",
       "    </tr>\n",
       "    <tr>\n",
       "      <th>46674265</th>\n",
       "      <td>7.645300</td>\n",
       "      <td>7.645300</td>\n",
       "      <td>7.536000</td>\n",
       "      <td>7.624100</td>\n",
       "      <td>3103.35</td>\n",
       "      <td>1514678339999</td>\n",
       "      <td>23504.789627</td>\n",
       "      <td>40</td>\n",
       "      <td>466.72</td>\n",
       "      <td>3567.580772</td>\n",
       "      <td>BNBUSDT</td>\n",
       "      <td>2017-12-30 23:58:00</td>\n",
       "    </tr>\n",
       "    <tr>\n",
       "      <th>46674266</th>\n",
       "      <td>7.572100</td>\n",
       "      <td>7.601200</td>\n",
       "      <td>7.536100</td>\n",
       "      <td>7.594700</td>\n",
       "      <td>1573.17</td>\n",
       "      <td>1514678399999</td>\n",
       "      <td>11899.882665</td>\n",
       "      <td>32</td>\n",
       "      <td>1450.23</td>\n",
       "      <td>10971.899718</td>\n",
       "      <td>BNBUSDT</td>\n",
       "      <td>2017-12-30 23:59:00</td>\n",
       "    </tr>\n",
       "    <tr>\n",
       "      <th>46674267</th>\n",
       "      <td>7.578300</td>\n",
       "      <td>7.596900</td>\n",
       "      <td>7.578300</td>\n",
       "      <td>7.578400</td>\n",
       "      <td>172.21</td>\n",
       "      <td>1514678459999</td>\n",
       "      <td>1307.272823</td>\n",
       "      <td>11</td>\n",
       "      <td>36.73</td>\n",
       "      <td>279.034137</td>\n",
       "      <td>BNBUSDT</td>\n",
       "      <td>2017-12-31 00:00:00</td>\n",
       "    </tr>\n",
       "  </tbody>\n",
       "</table>\n",
       "<p>46674268 rows × 12 columns</p>\n",
       "</div>"
      ],
      "text/plain": [
       "              Open      High       Low     Close   Volume     Close_time  \\\n",
       "0         0.000436  0.000436  0.000436  0.000436  2018.00  1509494459999   \n",
       "1         0.000436  0.000436  0.000421  0.000425  2497.00  1509494519999   \n",
       "2         0.000425  0.000428  0.000425  0.000428  2671.00  1509494579999   \n",
       "3         0.000428  0.000428  0.000428  0.000428  1773.00  1509494639999   \n",
       "4         0.000428  0.000428  0.000428  0.000428   887.00  1509494699999   \n",
       "...            ...       ...       ...       ...      ...            ...   \n",
       "46674263  7.689900  7.689900  7.629700  7.647400  3031.78  1514678219999   \n",
       "46674264  7.647000  7.647000  7.646700  7.646700     5.99  1514678279999   \n",
       "46674265  7.645300  7.645300  7.536000  7.624100  3103.35  1514678339999   \n",
       "46674266  7.572100  7.601200  7.536100  7.594700  1573.17  1514678399999   \n",
       "46674267  7.578300  7.596900  7.578300  7.578400   172.21  1514678459999   \n",
       "\n",
       "          Quote_asset_volume  Number_of_trades  Taker_buy_base_asset_volume  \\\n",
       "0                   0.880400                 4                         0.00   \n",
       "1                   1.074549                 8                       893.00   \n",
       "2                   1.139313                 3                      2671.00   \n",
       "3                   0.758578                 4                      1773.00   \n",
       "4                   0.379715                 4                       887.00   \n",
       "...                      ...               ...                          ...   \n",
       "46674263        23197.569353                42                         8.23   \n",
       "46674264           45.804333                 3                         5.99   \n",
       "46674265        23504.789627                40                       466.72   \n",
       "46674266        11899.882665                32                      1450.23   \n",
       "46674267         1307.272823                11                        36.73   \n",
       "\n",
       "          Taker_buy_quote_asset_volume    symbol                time  \n",
       "0                             0.000000  SNGLSETH 2017-11-01 00:00:00  \n",
       "1                             0.379605  SNGLSETH 2017-11-01 00:01:00  \n",
       "2                             1.139313  SNGLSETH 2017-11-01 00:02:00  \n",
       "3                             0.758578  SNGLSETH 2017-11-01 00:03:00  \n",
       "4                             0.379715  SNGLSETH 2017-11-01 00:04:00  \n",
       "...                                ...       ...                 ...  \n",
       "46674263                     63.152327   BNBUSDT 2017-12-30 23:56:00  \n",
       "46674264                     45.804333   BNBUSDT 2017-12-30 23:57:00  \n",
       "46674265                   3567.580772   BNBUSDT 2017-12-30 23:58:00  \n",
       "46674266                  10971.899718   BNBUSDT 2017-12-30 23:59:00  \n",
       "46674267                    279.034137   BNBUSDT 2017-12-31 00:00:00  \n",
       "\n",
       "[46674268 rows x 12 columns]"
      ]
     },
     "execution_count": 6,
     "metadata": {},
     "output_type": "execute_result"
    }
   ],
   "source": [
    "save_path = 'C:/Users/said.gani/Documents/Aljabar/Artificial Intelligence/Deep Learning/raw.parquet'\n",
    "\n",
    "df = pd.read_parquet(save_path)\n",
    "df"
   ]
  },
  {
   "cell_type": "code",
   "execution_count": 7,
   "id": "da6d369a",
   "metadata": {},
   "outputs": [
    {
     "name": "stdout",
     "output_type": "stream",
     "text": [
      "ANTLR runtime and generated code versions disagree: 4.8!=4.9\n",
      "ANTLR runtime and generated code versions disagree: 4.8!=4.9\n"
     ]
    },
    {
     "data": {
      "text/html": [
       "<div>\n",
       "<style scoped>\n",
       "    .dataframe tbody tr th:only-of-type {\n",
       "        vertical-align: middle;\n",
       "    }\n",
       "\n",
       "    .dataframe tbody tr th {\n",
       "        vertical-align: top;\n",
       "    }\n",
       "\n",
       "    .dataframe thead th {\n",
       "        text-align: right;\n",
       "    }\n",
       "</style>\n",
       "<table border=\"1\" class=\"dataframe\">\n",
       "  <thead>\n",
       "    <tr style=\"text-align: right;\">\n",
       "      <th></th>\n",
       "      <th>Open</th>\n",
       "      <th>High</th>\n",
       "      <th>Low</th>\n",
       "      <th>Close</th>\n",
       "      <th>Volume</th>\n",
       "      <th>Close_time</th>\n",
       "      <th>Quote_asset_volume</th>\n",
       "      <th>Number_of_trades</th>\n",
       "      <th>Taker_buy_base_asset_volume</th>\n",
       "      <th>Taker_buy_quote_asset_volume</th>\n",
       "      <th>symbol</th>\n",
       "      <th>time</th>\n",
       "    </tr>\n",
       "  </thead>\n",
       "  <tbody>\n",
       "    <tr>\n",
       "      <th>0</th>\n",
       "      <td>0.000436</td>\n",
       "      <td>0.000436</td>\n",
       "      <td>0.000436</td>\n",
       "      <td>0.000436</td>\n",
       "      <td>2018.0</td>\n",
       "      <td>1509494459999</td>\n",
       "      <td>0.880400</td>\n",
       "      <td>4</td>\n",
       "      <td>0.0</td>\n",
       "      <td>0.000000</td>\n",
       "      <td>SNGLSETH</td>\n",
       "      <td>2017-11-01 00:00:00</td>\n",
       "    </tr>\n",
       "    <tr>\n",
       "      <th>1</th>\n",
       "      <td>0.000436</td>\n",
       "      <td>0.000436</td>\n",
       "      <td>0.000421</td>\n",
       "      <td>0.000425</td>\n",
       "      <td>2497.0</td>\n",
       "      <td>1509494519999</td>\n",
       "      <td>1.074549</td>\n",
       "      <td>8</td>\n",
       "      <td>893.0</td>\n",
       "      <td>0.379605</td>\n",
       "      <td>SNGLSETH</td>\n",
       "      <td>2017-11-01 00:01:00</td>\n",
       "    </tr>\n",
       "    <tr>\n",
       "      <th>2</th>\n",
       "      <td>0.000425</td>\n",
       "      <td>0.000428</td>\n",
       "      <td>0.000425</td>\n",
       "      <td>0.000428</td>\n",
       "      <td>2671.0</td>\n",
       "      <td>1509494579999</td>\n",
       "      <td>1.139313</td>\n",
       "      <td>3</td>\n",
       "      <td>2671.0</td>\n",
       "      <td>1.139313</td>\n",
       "      <td>SNGLSETH</td>\n",
       "      <td>2017-11-01 00:02:00</td>\n",
       "    </tr>\n",
       "    <tr>\n",
       "      <th>3</th>\n",
       "      <td>0.000428</td>\n",
       "      <td>0.000428</td>\n",
       "      <td>0.000428</td>\n",
       "      <td>0.000428</td>\n",
       "      <td>1773.0</td>\n",
       "      <td>1509494639999</td>\n",
       "      <td>0.758578</td>\n",
       "      <td>4</td>\n",
       "      <td>1773.0</td>\n",
       "      <td>0.758578</td>\n",
       "      <td>SNGLSETH</td>\n",
       "      <td>2017-11-01 00:03:00</td>\n",
       "    </tr>\n",
       "    <tr>\n",
       "      <th>4</th>\n",
       "      <td>0.000428</td>\n",
       "      <td>0.000428</td>\n",
       "      <td>0.000428</td>\n",
       "      <td>0.000428</td>\n",
       "      <td>887.0</td>\n",
       "      <td>1509494699999</td>\n",
       "      <td>0.379715</td>\n",
       "      <td>4</td>\n",
       "      <td>887.0</td>\n",
       "      <td>0.379715</td>\n",
       "      <td>SNGLSETH</td>\n",
       "      <td>2017-11-01 00:04:00</td>\n",
       "    </tr>\n",
       "    <tr>\n",
       "      <th>5</th>\n",
       "      <td>0.000428</td>\n",
       "      <td>0.000428</td>\n",
       "      <td>0.000428</td>\n",
       "      <td>0.000428</td>\n",
       "      <td>0.0</td>\n",
       "      <td>1509494759999</td>\n",
       "      <td>0.000000</td>\n",
       "      <td>0</td>\n",
       "      <td>0.0</td>\n",
       "      <td>0.000000</td>\n",
       "      <td>SNGLSETH</td>\n",
       "      <td>2017-11-01 00:05:00</td>\n",
       "    </tr>\n",
       "    <tr>\n",
       "      <th>6</th>\n",
       "      <td>0.000428</td>\n",
       "      <td>0.000428</td>\n",
       "      <td>0.000428</td>\n",
       "      <td>0.000428</td>\n",
       "      <td>0.0</td>\n",
       "      <td>1509494819999</td>\n",
       "      <td>0.000000</td>\n",
       "      <td>0</td>\n",
       "      <td>0.0</td>\n",
       "      <td>0.000000</td>\n",
       "      <td>SNGLSETH</td>\n",
       "      <td>2017-11-01 00:06:00</td>\n",
       "    </tr>\n",
       "    <tr>\n",
       "      <th>7</th>\n",
       "      <td>0.000428</td>\n",
       "      <td>0.000428</td>\n",
       "      <td>0.000428</td>\n",
       "      <td>0.000428</td>\n",
       "      <td>0.0</td>\n",
       "      <td>1509494879999</td>\n",
       "      <td>0.000000</td>\n",
       "      <td>0</td>\n",
       "      <td>0.0</td>\n",
       "      <td>0.000000</td>\n",
       "      <td>SNGLSETH</td>\n",
       "      <td>2017-11-01 00:07:00</td>\n",
       "    </tr>\n",
       "    <tr>\n",
       "      <th>8</th>\n",
       "      <td>0.000428</td>\n",
       "      <td>0.000428</td>\n",
       "      <td>0.000428</td>\n",
       "      <td>0.000428</td>\n",
       "      <td>0.0</td>\n",
       "      <td>1509494939999</td>\n",
       "      <td>0.000000</td>\n",
       "      <td>0</td>\n",
       "      <td>0.0</td>\n",
       "      <td>0.000000</td>\n",
       "      <td>SNGLSETH</td>\n",
       "      <td>2017-11-01 00:08:00</td>\n",
       "    </tr>\n",
       "    <tr>\n",
       "      <th>9</th>\n",
       "      <td>0.000428</td>\n",
       "      <td>0.000428</td>\n",
       "      <td>0.000428</td>\n",
       "      <td>0.000428</td>\n",
       "      <td>0.0</td>\n",
       "      <td>1509494999999</td>\n",
       "      <td>0.000000</td>\n",
       "      <td>0</td>\n",
       "      <td>0.0</td>\n",
       "      <td>0.000000</td>\n",
       "      <td>SNGLSETH</td>\n",
       "      <td>2017-11-01 00:09:00</td>\n",
       "    </tr>\n",
       "  </tbody>\n",
       "</table>\n",
       "</div>"
      ],
      "text/plain": [
       "       Open      High       Low     Close  Volume     Close_time  \\\n",
       "0  0.000436  0.000436  0.000436  0.000436  2018.0  1509494459999   \n",
       "1  0.000436  0.000436  0.000421  0.000425  2497.0  1509494519999   \n",
       "2  0.000425  0.000428  0.000425  0.000428  2671.0  1509494579999   \n",
       "3  0.000428  0.000428  0.000428  0.000428  1773.0  1509494639999   \n",
       "4  0.000428  0.000428  0.000428  0.000428   887.0  1509494699999   \n",
       "5  0.000428  0.000428  0.000428  0.000428     0.0  1509494759999   \n",
       "6  0.000428  0.000428  0.000428  0.000428     0.0  1509494819999   \n",
       "7  0.000428  0.000428  0.000428  0.000428     0.0  1509494879999   \n",
       "8  0.000428  0.000428  0.000428  0.000428     0.0  1509494939999   \n",
       "9  0.000428  0.000428  0.000428  0.000428     0.0  1509494999999   \n",
       "\n",
       "   Quote_asset_volume  Number_of_trades  Taker_buy_base_asset_volume  \\\n",
       "0            0.880400                 4                          0.0   \n",
       "1            1.074549                 8                        893.0   \n",
       "2            1.139313                 3                       2671.0   \n",
       "3            0.758578                 4                       1773.0   \n",
       "4            0.379715                 4                        887.0   \n",
       "5            0.000000                 0                          0.0   \n",
       "6            0.000000                 0                          0.0   \n",
       "7            0.000000                 0                          0.0   \n",
       "8            0.000000                 0                          0.0   \n",
       "9            0.000000                 0                          0.0   \n",
       "\n",
       "   Taker_buy_quote_asset_volume    symbol                time  \n",
       "0                      0.000000  SNGLSETH 2017-11-01 00:00:00  \n",
       "1                      0.379605  SNGLSETH 2017-11-01 00:01:00  \n",
       "2                      1.139313  SNGLSETH 2017-11-01 00:02:00  \n",
       "3                      0.758578  SNGLSETH 2017-11-01 00:03:00  \n",
       "4                      0.379715  SNGLSETH 2017-11-01 00:04:00  \n",
       "5                      0.000000  SNGLSETH 2017-11-01 00:05:00  \n",
       "6                      0.000000  SNGLSETH 2017-11-01 00:06:00  \n",
       "7                      0.000000  SNGLSETH 2017-11-01 00:07:00  \n",
       "8                      0.000000  SNGLSETH 2017-11-01 00:08:00  \n",
       "9                      0.000000  SNGLSETH 2017-11-01 00:09:00  "
      ]
     },
     "metadata": {},
     "output_type": "display_data"
    },
    {
     "data": {
      "text/html": [
       "<small>schema: Open:double,High:double,Low:double,Close:double,Volume:double,Close_time:long,Quote_asset_volume:double,Number_of_trades:long,Taker_buy_base_asset_volume:double,Taker_buy_quote_asset_volume:double,symbol:str,time:datetime</small>"
      ],
      "text/plain": [
       "<IPython.core.display.HTML object>"
      ]
     },
     "metadata": {},
     "output_type": "display_data"
    }
   ],
   "source": [
    "%%fsql duck\n",
    "\n",
    "LOAD '{{save_path}}'\n",
    "PRINT"
   ]
  },
  {
   "cell_type": "markdown",
   "id": "b916bc91",
   "metadata": {},
   "source": [
    "# Processing"
   ]
  },
  {
   "cell_type": "code",
   "execution_count": 8,
   "id": "b274ed0a",
   "metadata": {},
   "outputs": [],
   "source": [
    "# Read data\n",
    "df = pd.read_parquet(save_path)\n",
    "\n",
    "# Filter\n",
    "usdt = df[df.symbol.str.endswith(\"USDT\")]\n",
    "\n",
    "# Get date\n",
    "processed = usdt.assign(date=usdt.time.dt.date)\n",
    "\n",
    "# Get total trades by symbol and date\n",
    "processed = (\n",
    "    processed.groupby(by=[\"symbol\", \"date\"])\n",
    "    .sum()[[\"Number_of_trades\"]].reset_index()\n",
    ")\n",
    "\n",
    "# Get symbols with largest average trades\n",
    "top_symbols_pd = (\n",
    "    processed.groupby(by=[\"symbol\"])\n",
    "    .agg(trades=(\"Number_of_trades\", \"mean\"))\n",
    "    .nlargest(columns=\"trades\", n=3)\n",
    ")"
   ]
  },
  {
   "cell_type": "code",
   "execution_count": 9,
   "id": "08f7b19d",
   "metadata": {},
   "outputs": [
    {
     "data": {
      "text/html": [
       "<div>\n",
       "<style scoped>\n",
       "    .dataframe tbody tr th:only-of-type {\n",
       "        vertical-align: middle;\n",
       "    }\n",
       "\n",
       "    .dataframe tbody tr th {\n",
       "        vertical-align: top;\n",
       "    }\n",
       "\n",
       "    .dataframe thead th {\n",
       "        text-align: right;\n",
       "    }\n",
       "</style>\n",
       "<table border=\"1\" class=\"dataframe\">\n",
       "  <thead>\n",
       "    <tr style=\"text-align: right;\">\n",
       "      <th></th>\n",
       "      <th>trades</th>\n",
       "    </tr>\n",
       "    <tr>\n",
       "      <th>symbol</th>\n",
       "      <th></th>\n",
       "    </tr>\n",
       "  </thead>\n",
       "  <tbody>\n",
       "    <tr>\n",
       "      <th>BTCUSDT</th>\n",
       "      <td>204608.145695</td>\n",
       "    </tr>\n",
       "    <tr>\n",
       "      <th>ETHUSDT</th>\n",
       "      <td>121244.543046</td>\n",
       "    </tr>\n",
       "    <tr>\n",
       "      <th>LTCUSDT</th>\n",
       "      <td>50804.761468</td>\n",
       "    </tr>\n",
       "  </tbody>\n",
       "</table>\n",
       "</div>"
      ],
      "text/plain": [
       "                trades\n",
       "symbol                \n",
       "BTCUSDT  204608.145695\n",
       "ETHUSDT  121244.543046\n",
       "LTCUSDT   50804.761468"
      ]
     },
     "execution_count": 9,
     "metadata": {},
     "output_type": "execute_result"
    }
   ],
   "source": [
    "top_symbols_pd"
   ]
  },
  {
   "cell_type": "code",
   "execution_count": null,
   "id": "3d367310",
   "metadata": {},
   "outputs": [],
   "source": []
  },
  {
   "cell_type": "markdown",
   "id": "6d33209c",
   "metadata": {},
   "source": [
    "# Using DuckDB"
   ]
  },
  {
   "cell_type": "code",
   "execution_count": 10,
   "id": "3ec4c7fe",
   "metadata": {},
   "outputs": [
    {
     "name": "stdout",
     "output_type": "stream",
     "text": [
      "ANTLR runtime and generated code versions disagree: 4.8!=4.9\n",
      "ANTLR runtime and generated code versions disagree: 4.8!=4.9\n"
     ]
    },
    {
     "data": {
      "text/html": [
       "<div>\n",
       "<style scoped>\n",
       "    .dataframe tbody tr th:only-of-type {\n",
       "        vertical-align: middle;\n",
       "    }\n",
       "\n",
       "    .dataframe tbody tr th {\n",
       "        vertical-align: top;\n",
       "    }\n",
       "\n",
       "    .dataframe thead th {\n",
       "        text-align: right;\n",
       "    }\n",
       "</style>\n",
       "<table border=\"1\" class=\"dataframe\">\n",
       "  <thead>\n",
       "    <tr style=\"text-align: right;\">\n",
       "      <th></th>\n",
       "      <th>symbol</th>\n",
       "      <th>trades</th>\n",
       "    </tr>\n",
       "  </thead>\n",
       "  <tbody>\n",
       "    <tr>\n",
       "      <th>0</th>\n",
       "      <td>BTCUSDT</td>\n",
       "      <td>204608.145695</td>\n",
       "    </tr>\n",
       "    <tr>\n",
       "      <th>1</th>\n",
       "      <td>ETHUSDT</td>\n",
       "      <td>121244.543046</td>\n",
       "    </tr>\n",
       "    <tr>\n",
       "      <th>2</th>\n",
       "      <td>LTCUSDT</td>\n",
       "      <td>50804.761468</td>\n",
       "    </tr>\n",
       "  </tbody>\n",
       "</table>\n",
       "</div>"
      ],
      "text/plain": [
       "    symbol         trades\n",
       "0  BTCUSDT  204608.145695\n",
       "1  ETHUSDT  121244.543046\n",
       "2  LTCUSDT   50804.761468"
      ]
     },
     "metadata": {},
     "output_type": "display_data"
    },
    {
     "data": {
      "text/html": [
       "<small>schema: symbol:str,trades:double</small>"
      ],
      "text/plain": [
       "<IPython.core.display.HTML object>"
      ]
     },
     "metadata": {},
     "output_type": "display_data"
    }
   ],
   "source": [
    "%%fsql duck\n",
    "\n",
    "-- Load data\n",
    "LOAD \"{{save_path}}\" \n",
    "\n",
    "-- Filter \n",
    "SELECT * WHERE symbol LIKE '%USDT' \n",
    "\n",
    "-- Get total trades by symbol and date  \n",
    "SELECT \n",
    "    symbol, \n",
    "    date_trunc('day',time) AS date, \n",
    "    SUM(Number_of_trades) AS trades \n",
    "GROUP BY 1,2 \n",
    "    \n",
    "-- Get symbols with largest average trades     \n",
    "SELECT \n",
    "    symbol, \n",
    "    AVG(trades) AS trades \n",
    "GROUP BY 1 \n",
    "ORDER BY 2 DESC \n",
    "LIMIT 3\n",
    "    \n",
    "-- Save and print output\n",
    "YIELD DATAFRAME AS top_symbols\n",
    "PRINT"
   ]
  },
  {
   "cell_type": "code",
   "execution_count": null,
   "id": "2d54106f",
   "metadata": {},
   "outputs": [],
   "source": []
  },
  {
   "cell_type": "code",
   "execution_count": 11,
   "id": "257d46f9",
   "metadata": {},
   "outputs": [
    {
     "data": {
      "text/html": [
       "<div>\n",
       "<style scoped>\n",
       "    .dataframe tbody tr th:only-of-type {\n",
       "        vertical-align: middle;\n",
       "    }\n",
       "\n",
       "    .dataframe tbody tr th {\n",
       "        vertical-align: top;\n",
       "    }\n",
       "\n",
       "    .dataframe thead th {\n",
       "        text-align: right;\n",
       "    }\n",
       "</style>\n",
       "<table border=\"1\" class=\"dataframe\">\n",
       "  <thead>\n",
       "    <tr style=\"text-align: right;\">\n",
       "      <th></th>\n",
       "      <th>symbol</th>\n",
       "      <th>trades</th>\n",
       "    </tr>\n",
       "  </thead>\n",
       "  <tbody>\n",
       "    <tr>\n",
       "      <th>0</th>\n",
       "      <td>BTCUSDT</td>\n",
       "      <td>204608.145695</td>\n",
       "    </tr>\n",
       "    <tr>\n",
       "      <th>1</th>\n",
       "      <td>ETHUSDT</td>\n",
       "      <td>121244.543046</td>\n",
       "    </tr>\n",
       "    <tr>\n",
       "      <th>2</th>\n",
       "      <td>LTCUSDT</td>\n",
       "      <td>50804.761468</td>\n",
       "    </tr>\n",
       "  </tbody>\n",
       "</table>\n",
       "</div>"
      ],
      "text/plain": [
       "    symbol         trades\n",
       "0  BTCUSDT  204608.145695\n",
       "1  ETHUSDT  121244.543046\n",
       "2  LTCUSDT   50804.761468"
      ]
     },
     "execution_count": 11,
     "metadata": {},
     "output_type": "execute_result"
    }
   ],
   "source": [
    "top_symbols.as_pandas()"
   ]
  },
  {
   "cell_type": "code",
   "execution_count": 12,
   "id": "a71f8404",
   "metadata": {},
   "outputs": [
    {
     "name": "stdout",
     "output_type": "stream",
     "text": [
      "ANTLR runtime and generated code versions disagree: 4.8!=4.9\n",
      "ANTLR runtime and generated code versions disagree: 4.8!=4.9\n"
     ]
    },
    {
     "data": {
      "text/html": [
       "<div>\n",
       "<style scoped>\n",
       "    .dataframe tbody tr th:only-of-type {\n",
       "        vertical-align: middle;\n",
       "    }\n",
       "\n",
       "    .dataframe tbody tr th {\n",
       "        vertical-align: top;\n",
       "    }\n",
       "\n",
       "    .dataframe thead th {\n",
       "        text-align: right;\n",
       "    }\n",
       "</style>\n",
       "<table border=\"1\" class=\"dataframe\">\n",
       "  <thead>\n",
       "    <tr style=\"text-align: right;\">\n",
       "      <th></th>\n",
       "      <th>symbol</th>\n",
       "      <th>trades</th>\n",
       "    </tr>\n",
       "  </thead>\n",
       "  <tbody>\n",
       "    <tr>\n",
       "      <th>0</th>\n",
       "      <td>BTCUSDT</td>\n",
       "      <td>204608.145695</td>\n",
       "    </tr>\n",
       "    <tr>\n",
       "      <th>1</th>\n",
       "      <td>ETHUSDT</td>\n",
       "      <td>121244.543046</td>\n",
       "    </tr>\n",
       "    <tr>\n",
       "      <th>2</th>\n",
       "      <td>LTCUSDT</td>\n",
       "      <td>50804.761468</td>\n",
       "    </tr>\n",
       "  </tbody>\n",
       "</table>\n",
       "</div>"
      ],
      "text/plain": [
       "    symbol         trades\n",
       "0  BTCUSDT  204608.145695\n",
       "1  ETHUSDT  121244.543046\n",
       "2  LTCUSDT   50804.761468"
      ]
     },
     "metadata": {},
     "output_type": "display_data"
    },
    {
     "data": {
      "text/html": [
       "<small>schema: symbol:str,trades:double</small>"
      ],
      "text/plain": [
       "<IPython.core.display.HTML object>"
      ]
     },
     "metadata": {},
     "output_type": "display_data"
    }
   ],
   "source": [
    "%%fsql duck\n",
    "\n",
    "SELECT * \n",
    "FROM top_symbols\n",
    "PRINT"
   ]
  },
  {
   "cell_type": "code",
   "execution_count": 13,
   "id": "9f541f56",
   "metadata": {},
   "outputs": [
    {
     "name": "stdout",
     "output_type": "stream",
     "text": [
      "ANTLR runtime and generated code versions disagree: 4.8!=4.9\n",
      "ANTLR runtime and generated code versions disagree: 4.8!=4.9\n"
     ]
    }
   ],
   "source": [
    "%%fsql duck\n",
    "src = LOAD \"{{save_path}}\"\n",
    "\n",
    "SELECT src.* \n",
    "FROM src \n",
    "INNER JOIN top_symbols \n",
    "ON src.symbol = top_symbols.symbol\n",
    "YIELD DATAFRAME AS top_data"
   ]
  },
  {
   "cell_type": "code",
   "execution_count": null,
   "id": "47f57bbf",
   "metadata": {},
   "outputs": [],
   "source": []
  },
  {
   "cell_type": "markdown",
   "id": "ad1a2612",
   "metadata": {},
   "source": [
    "# Using a Python extension - OUTPUT"
   ]
  },
  {
   "cell_type": "code",
   "execution_count": 14,
   "id": "ab76d3c9",
   "metadata": {},
   "outputs": [],
   "source": [
    "def plot_by(df:pd.DataFrame, by, y) -> None:\n",
    "    for name, group in df.groupby(by):\n",
    "        group.plot(x=\"time\", y=y, title=name)"
   ]
  },
  {
   "cell_type": "code",
   "execution_count": 15,
   "id": "3d73dfeb",
   "metadata": {},
   "outputs": [
    {
     "name": "stdout",
     "output_type": "stream",
     "text": [
      "ANTLR runtime and generated code versions disagree: 4.8!=4.9\n",
      "ANTLR runtime and generated code versions disagree: 4.8!=4.9\n"
     ]
    },
    {
     "data": {
      "image/png": "[encoded data removed]",
      "text/plain": [
       "<Figure size 432x288 with 1 Axes>"
      ]
     },
     "metadata": {
      "needs_background": "light"
     },
     "output_type": "display_data"
    },
    {
     "data": {
      "image/png": "[encoded data removed]",
      "text/plain": [
       "<Figure size 432x288 with 1 Axes>"
      ]
     },
     "metadata": {
      "needs_background": "light"
     },
     "output_type": "display_data"
    },
    {
     "data": {
      "image/png": "[encoded data removed]",
      "text/plain": [
       "<Figure size 432x288 with 1 Axes>"
      ]
     },
     "metadata": {
      "needs_background": "light"
     },
     "output_type": "display_data"
    }
   ],
   "source": [
    "%%fsql duck\n",
    "SELECT * FROM top_data\n",
    "SAMPLE 1 PERCENT SEED 0\n",
    "SELECT * ORDER BY time\n",
    "OUTPUT USING plot_by(by=\"symbol\", y=\"Close\")"
   ]
  },
  {
   "cell_type": "markdown",
   "id": "89f1dbcc",
   "metadata": {},
   "source": [
    "# Using a Python extension - TRANSFORM"
   ]
  },
  {
   "cell_type": "code",
   "execution_count": 16,
   "id": "310bba01",
   "metadata": {},
   "outputs": [],
   "source": [
    "# schema: *,macd:double\n",
    "def macd(df:pd.DataFrame) -> pd.DataFrame:\n",
    "    import pandas_ta\n",
    "    macd = df.ta.macd(close='close', fast=12, slow=26, signal=9)\n",
    "    return df.assign(macd=macd.iloc[:,2])"
   ]
  },
  {
   "cell_type": "code",
   "execution_count": 22,
   "id": "d305d802",
   "metadata": {},
   "outputs": [
    {
     "name": "stdout",
     "output_type": "stream",
     "text": [
      "ANTLR runtime and generated code versions disagree: 4.8!=4.9\n",
      "ANTLR runtime and generated code versions disagree: 4.8!=4.9\n"
     ]
    },
    {
     "data": {
      "image/png": "[encoded data removed]",
      "text/plain": [
       "<Figure size 432x288 with 1 Axes>"
      ]
     },
     "metadata": {
      "needs_background": "light"
     },
     "output_type": "display_data"
    },
    {
     "data": {
      "image/png": "[encoded data removed]",
      "text/plain": [
       "<Figure size 432x288 with 1 Axes>"
      ]
     },
     "metadata": {
      "needs_background": "light"
     },
     "output_type": "display_data"
    },
    {
     "data": {
      "image/png": "[encoded data removed]",
      "text/plain": [
       "<Figure size 432x288 with 1 Axes>"
      ]
     },
     "metadata": {
      "needs_background": "light"
     },
     "output_type": "display_data"
    }
   ],
   "source": [
    "%%fsql duck\n",
    "SELECT\n",
    "    symbol,\n",
    "    date_trunc('day', time) AS time,\n",
    "    min_by(Open, time) AS open,\n",
    "    MAX(High) AS high,\n",
    "    MIN(Low) AS low,\n",
    "    max_by(Close, time) AS close,\n",
    "    SUM(Number_of_trades) AS trades,\n",
    "    SUM(Volume) AS volume\n",
    "FROM top_data\n",
    "GROUP BY 1, 2\n",
    "\n",
    "-- Group by symbol and sort by time \n",
    "-- Then use the macd function defined earlier\n",
    "TRANSFORM PREPARTITION BY symbol PRESORT time\n",
    "USING macd\n",
    "\n",
    "-- Plot the macd plots\n",
    "SELECT * ORDER BY time\n",
    "OUTPUT USING plot_by(by='symbol', y=\"macd\")"
   ]
  },
  {
   "cell_type": "markdown",
   "id": "8c396515",
   "metadata": {},
   "source": [
    "# Fugue + DuckDB in Production"
   ]
  },
  {
   "cell_type": "code",
   "execution_count": 24,
   "id": "e36a10f0",
   "metadata": {},
   "outputs": [
    {
     "name": "stdout",
     "output_type": "stream",
     "text": [
      "ANTLR runtime and generated code versions disagree: 4.8!=4.9\n",
      "ANTLR runtime and generated code versions disagree: 4.8!=4.9\n"
     ]
    },
    {
     "data": {
      "text/plain": [
       "DataFrames()"
      ]
     },
     "execution_count": 24,
     "metadata": {},
     "output_type": "execute_result"
    },
    {
     "data": {
      "image/png": "[encoded data removed]",
      "text/plain": [
       "<Figure size 432x288 with 1 Axes>"
      ]
     },
     "metadata": {
      "needs_background": "light"
     },
     "output_type": "display_data"
    },
    {
     "data": {
      "image/png": "[encoded data removed]",
      "text/plain": [
       "<Figure size 432x288 with 1 Axes>"
      ]
     },
     "metadata": {
      "needs_background": "light"
     },
     "output_type": "display_data"
    },
    {
     "data": {
      "image/png": "[encoded data removed]",
      "text/plain": [
       "<Figure size 432x288 with 1 Axes>"
      ]
     },
     "metadata": {
      "needs_background": "light"
     },
     "output_type": "display_data"
    },
    {
     "data": {
      "image/png": "[encoded data removed]",
      "text/plain": [
       "<Figure size 432x288 with 1 Axes>"
      ]
     },
     "metadata": {
      "needs_background": "light"
     },
     "output_type": "display_data"
    }
   ],
   "source": [
    "query = \"\"\" src = LOAD \"{{save_path}}\"\n",
    "            SELECT * WHERE symbol LIKE '%USDT'\n",
    "            SELECT symbol, date_trunc('day',time) AS date, SUM(Number_of_trades) AS trades GROUP BY 1,2\n",
    "            top_symbols = SELECT symbol, AVG(trades) AS trades GROUP BY 1 ORDER BY 2 DESC LIMIT 4\n",
    "            \n",
    "            SELECT src.* FROM src INNER JOIN top_symbols ON src.symbol = top_symbols.symbol\n",
    "\n",
    "            SELECT\n",
    "                symbol,\n",
    "                date_trunc('day', time) AS time,\n",
    "                min_by(Open, time) AS open,\n",
    "                MAX(High) AS high,\n",
    "                MIN(Low) AS low,\n",
    "                max_by(Close, time) AS close,\n",
    "                SUM(Number_of_trades) AS trades,\n",
    "                SUM(Volume) AS volume\n",
    "            GROUP BY 1, 2\n",
    "\n",
    "            TRANSFORM PREPARTITION BY symbol PRESORT time\n",
    "            USING macd\n",
    "\n",
    "            SELECT * ORDER BY time\n",
    "            OUTPUT USING plot_by(by='symbol', y=\"macd\")\n",
    "            \"\"\"\n",
    "fsql(query).run(\"duck\")"
   ]
  },
  {
   "cell_type": "code",
   "execution_count": null,
   "id": "39f71ee3",
   "metadata": {},
   "outputs": [],
   "source": []
  },
  {
   "cell_type": "code",
   "execution_count": null,
   "id": "8c666bf8",
   "metadata": {},
   "outputs": [],
   "source": []
  },
  {
   "cell_type": "code",
   "execution_count": null,
   "id": "9be0bdc9",
   "metadata": {},
   "outputs": [],
   "source": []
  },
  {
   "cell_type": "code",
   "execution_count": null,
   "id": "35982dd8",
   "metadata": {},
   "outputs": [],
   "source": []
  },
  {
   "cell_type": "code",
   "execution_count": null,
   "id": "64b4c3ae",
   "metadata": {},
   "outputs": [],
   "source": []
  },
  {
   "cell_type": "code",
   "execution_count": null,
   "id": "c1c9bbce",
   "metadata": {},
   "outputs": [],
   "source": []
  },
  {
   "cell_type": "code",
   "execution_count": null,
   "id": "c5548f0e",
   "metadata": {},
   "outputs": [],
   "source": []
  },
  {
   "cell_type": "code",
   "execution_count": null,
   "id": "8b8c63c9",
   "metadata": {},
   "outputs": [],
   "source": []
  },
  {
   "cell_type": "code",
   "execution_count": null,
   "id": "999a9cec",
   "metadata": {},
   "outputs": [],
   "source": []
  },
  {
   "cell_type": "code",
   "execution_count": null,
   "id": "d2218f9a",
   "metadata": {},
   "outputs": [],
   "source": []
  },
  {
   "cell_type": "code",
   "execution_count": null,
   "id": "5c88e879",
   "metadata": {},
   "outputs": [],
   "source": []
  },
  {
   "cell_type": "code",
   "execution_count": null,
   "id": "221b8f20",
   "metadata": {},
   "outputs": [],
   "source": []
  },
  {
   "cell_type": "code",
   "execution_count": null,
   "id": "369f3f40",
   "metadata": {},
   "outputs": [],
   "source": []
  },
  {
   "cell_type": "code",
   "execution_count": null,
   "id": "94ea5d17",
   "metadata": {},
   "outputs": [],
   "source": []
  },
  {
   "cell_type": "code",
   "execution_count": null,
   "id": "2d7ad2f7",
   "metadata": {},
   "outputs": [],
   "source": []
  },
  {
   "cell_type": "code",
   "execution_count": null,
   "id": "536ec08c",
   "metadata": {},
   "outputs": [],
   "source": []
  },
  {
   "cell_type": "code",
   "execution_count": null,
   "id": "c0e19e5a",
   "metadata": {},
   "outputs": [],
   "source": []
  },
  {
   "cell_type": "code",
   "execution_count": null,
   "id": "79f3af8c",
   "metadata": {},
   "outputs": [],
   "source": []
  },
  {
   "cell_type": "code",
   "execution_count": null,
   "id": "b3b21709",
   "metadata": {},
   "outputs": [],
   "source": []
  },
  {
   "cell_type": "code",
   "execution_count": null,
   "id": "f4971e5c",
   "metadata": {},
   "outputs": [],
   "source": []
  },
  {
   "cell_type": "code",
   "execution_count": null,
   "id": "31967925",
   "metadata": {},
   "outputs": [],
   "source": []
  },
  {
   "cell_type": "code",
   "execution_count": null,
   "id": "301f354c",
   "metadata": {},
   "outputs": [],
   "source": []
  },
  {
   "cell_type": "code",
   "execution_count": null,
   "id": "fb530c06",
   "metadata": {},
   "outputs": [],
   "source": []
  }
 ],
 "metadata": {
  "kernelspec": {
   "display_name": "Python 3",
   "language": "python",
   "name": "python3"
  },
  "language_info": {
   "codemirror_mode": {
    "name": "ipython",
    "version": 3
   },
   "file_extension": ".py",
   "mimetype": "text/x-python",
   "name": "python",
   "nbconvert_exporter": "python",
   "pygments_lexer": "ipython3",
   "version": "3.8.8"
  }
 },
 "nbformat": 4,
 "nbformat_minor": 5
}
